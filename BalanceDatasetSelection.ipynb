{
 "cells": [
  {
   "cell_type": "markdown",
   "metadata": {},
   "source": [
    "# Balance dataset: selection of trials\n",
    "\n",
    "Marcos Duarte"
   ]
  },
  {
   "cell_type": "markdown",
   "metadata": {},
   "source": [
    "Let's see how to select data from the Balance dataset, a public data set of quantitative and qualitative evaluations. See the companiom data set website [http://demotu.org/datasets/balance/](http://demotu.org/datasets/balance/) for more information.\n",
    "\n",
    "We will use the power of python and its libraries to handle the data, particularly the [pandas](http://pandas.pydata.org/) library for handling labeled data, [Seaborn](https://stanford.edu/~mwaskom/software/seaborn/) for plotting, and [Jupyter Notebook](http://jupyter.org/) as the web application for running all the code and the GUI widgets.\n",
    "\n",
    "First, let's import the necessary Python libraries and configure the environment:"
   ]
  },
  {
   "cell_type": "code",
   "execution_count": 1,
   "metadata": {
    "collapsed": false
   },
   "outputs": [],
   "source": [
    "import numpy as np\n",
    "import pandas as pd\n",
    "pd.set_option('precision', 2)\n",
    "import matplotlib\n",
    "import matplotlib.pyplot as plt\n",
    "import matplotlib.gridspec as gridspec\n",
    "%matplotlib inline\n",
    "import seaborn as sns\n",
    "sns.set_context(\"notebook\", font_scale=1.4,\n",
    "                rc={'font.size': 14, 'lines.linewidth': 2, 'lines.markersize': 10, 'axes.titlesize': 'x-large'})\n",
    "sns.set_style(\"whitegrid\")\n",
    "import glob\n",
    "import sys, os\n",
    "sys.path.insert(1, r'./../functions')\n",
    "\n",
    "# IPython widgets:\n",
    "from IPython.display import display\n",
    "import ipywidgets\n",
    "from ipywidgets import FloatProgress, interactive\n",
    "\n",
    "import qgrid  # pip install git+https://github.com/quantopian/qgrid\n",
    "#qgrid.nbinstall(overwrite=True)  # copies javascript dependencies to /nbextensions folder\n",
    "qgrid.set_defaults(remote_js=True, precision=2)  # Set default options by calling \"set_defaults\" (optional)"
   ]
  },
  {
   "cell_type": "markdown",
   "metadata": {},
   "source": [
    "## Load the metadata about the Balance dataset\n",
    "\n",
    "The metadata of the Balance dataset are stored in ASCII files. See [http://demotu.org/datasets/balance/](http://demotu.org/datasets/balance/) for more information"
   ]
  },
  {
   "cell_type": "code",
   "execution_count": 2,
   "metadata": {
    "collapsed": false
   },
   "outputs": [
    {
     "name": "stdout",
     "output_type": "stream",
     "text": [
      "Information of 163 subjects loaded (1930 rows, 69 columns).\n"
     ]
    }
   ],
   "source": [
    "# read file with all metadata and COP variables from the GitHub repo:\n",
    "fname = 'https://raw.githubusercontent.com/demotu/datasets/master/Balance/BDSinfoCOP.txt'\n",
    "path = r'./../../../X/BDB/'\n",
    "fname = os.path.join(path, 'BDSinfoCOP.txt')\n",
    "BDSinfo = pd.read_csv(fname, sep='\\t', header=0, index_col=None, engine='c', encoding='utf-8')\n",
    "print(\"Information of %s subjects loaded (%s rows, %s columns).\"\n",
    "      %(len(pd.unique(BDSinfo.Subject)), BDSinfo.shape[0], BDSinfo.shape[1]))"
   ]
  },
  {
   "cell_type": "markdown",
   "metadata": {},
   "source": [
    "Here are the first 10 columns of the data:"
   ]
  },
  {
   "cell_type": "code",
   "execution_count": 3,
   "metadata": {
    "collapsed": false
   },
   "outputs": [
    {
     "data": {
      "text/html": [
       "<div>\n",
       "<table border=\"1\" class=\"dataframe\">\n",
       "  <thead>\n",
       "    <tr style=\"text-align: right;\">\n",
       "      <th></th>\n",
       "      <th>Trial</th>\n",
       "      <th>Subject</th>\n",
       "      <th>Vision</th>\n",
       "      <th>Surface</th>\n",
       "      <th>Age</th>\n",
       "      <th>AgeGroup</th>\n",
       "      <th>Gender</th>\n",
       "      <th>Height</th>\n",
       "      <th>Weight</th>\n",
       "      <th>BMI</th>\n",
       "    </tr>\n",
       "  </thead>\n",
       "  <tbody>\n",
       "    <tr>\n",
       "      <th>0</th>\n",
       "      <td>BDS00001</td>\n",
       "      <td>1</td>\n",
       "      <td>Open</td>\n",
       "      <td>Firm</td>\n",
       "      <td>33.00</td>\n",
       "      <td>Young</td>\n",
       "      <td>F</td>\n",
       "      <td>157.5</td>\n",
       "      <td>54.2</td>\n",
       "      <td>21.85</td>\n",
       "    </tr>\n",
       "    <tr>\n",
       "      <th>1</th>\n",
       "      <td>BDS00002</td>\n",
       "      <td>1</td>\n",
       "      <td>Open</td>\n",
       "      <td>Firm</td>\n",
       "      <td>33.00</td>\n",
       "      <td>Young</td>\n",
       "      <td>F</td>\n",
       "      <td>157.5</td>\n",
       "      <td>54.2</td>\n",
       "      <td>21.85</td>\n",
       "    </tr>\n",
       "    <tr>\n",
       "      <th>2</th>\n",
       "      <td>BDS00003</td>\n",
       "      <td>1</td>\n",
       "      <td>Open</td>\n",
       "      <td>Firm</td>\n",
       "      <td>33.00</td>\n",
       "      <td>Young</td>\n",
       "      <td>F</td>\n",
       "      <td>157.5</td>\n",
       "      <td>54.2</td>\n",
       "      <td>21.85</td>\n",
       "    </tr>\n",
       "    <tr>\n",
       "      <th>3</th>\n",
       "      <td>BDS00004</td>\n",
       "      <td>1</td>\n",
       "      <td>Closed</td>\n",
       "      <td>Firm</td>\n",
       "      <td>33.00</td>\n",
       "      <td>Young</td>\n",
       "      <td>F</td>\n",
       "      <td>157.5</td>\n",
       "      <td>54.2</td>\n",
       "      <td>21.85</td>\n",
       "    </tr>\n",
       "    <tr>\n",
       "      <th>4</th>\n",
       "      <td>BDS00005</td>\n",
       "      <td>1</td>\n",
       "      <td>Closed</td>\n",
       "      <td>Firm</td>\n",
       "      <td>33.00</td>\n",
       "      <td>Young</td>\n",
       "      <td>F</td>\n",
       "      <td>157.5</td>\n",
       "      <td>54.2</td>\n",
       "      <td>21.85</td>\n",
       "    </tr>\n",
       "    <tr>\n",
       "      <th>5</th>\n",
       "      <td>BDS00006</td>\n",
       "      <td>1</td>\n",
       "      <td>Closed</td>\n",
       "      <td>Firm</td>\n",
       "      <td>33.00</td>\n",
       "      <td>Young</td>\n",
       "      <td>F</td>\n",
       "      <td>157.5</td>\n",
       "      <td>54.2</td>\n",
       "      <td>21.85</td>\n",
       "    </tr>\n",
       "    <tr>\n",
       "      <th>6</th>\n",
       "      <td>BDS00007</td>\n",
       "      <td>1</td>\n",
       "      <td>Open</td>\n",
       "      <td>Foam</td>\n",
       "      <td>33.00</td>\n",
       "      <td>Young</td>\n",
       "      <td>F</td>\n",
       "      <td>157.5</td>\n",
       "      <td>54.2</td>\n",
       "      <td>21.85</td>\n",
       "    </tr>\n",
       "    <tr>\n",
       "      <th>7</th>\n",
       "      <td>BDS00008</td>\n",
       "      <td>1</td>\n",
       "      <td>Open</td>\n",
       "      <td>Foam</td>\n",
       "      <td>33.00</td>\n",
       "      <td>Young</td>\n",
       "      <td>F</td>\n",
       "      <td>157.5</td>\n",
       "      <td>54.2</td>\n",
       "      <td>21.85</td>\n",
       "    </tr>\n",
       "    <tr>\n",
       "      <th>8</th>\n",
       "      <td>BDS00009</td>\n",
       "      <td>1</td>\n",
       "      <td>Open</td>\n",
       "      <td>Foam</td>\n",
       "      <td>33.00</td>\n",
       "      <td>Young</td>\n",
       "      <td>F</td>\n",
       "      <td>157.5</td>\n",
       "      <td>54.2</td>\n",
       "      <td>21.85</td>\n",
       "    </tr>\n",
       "    <tr>\n",
       "      <th>9</th>\n",
       "      <td>BDS00010</td>\n",
       "      <td>1</td>\n",
       "      <td>Closed</td>\n",
       "      <td>Foam</td>\n",
       "      <td>33.00</td>\n",
       "      <td>Young</td>\n",
       "      <td>F</td>\n",
       "      <td>157.5</td>\n",
       "      <td>54.2</td>\n",
       "      <td>21.85</td>\n",
       "    </tr>\n",
       "    <tr>\n",
       "      <th>10</th>\n",
       "      <td>BDS00011</td>\n",
       "      <td>1</td>\n",
       "      <td>Closed</td>\n",
       "      <td>Foam</td>\n",
       "      <td>33.00</td>\n",
       "      <td>Young</td>\n",
       "      <td>F</td>\n",
       "      <td>157.5</td>\n",
       "      <td>54.2</td>\n",
       "      <td>21.85</td>\n",
       "    </tr>\n",
       "    <tr>\n",
       "      <th>11</th>\n",
       "      <td>BDS00012</td>\n",
       "      <td>1</td>\n",
       "      <td>Closed</td>\n",
       "      <td>Foam</td>\n",
       "      <td>33.00</td>\n",
       "      <td>Young</td>\n",
       "      <td>F</td>\n",
       "      <td>157.5</td>\n",
       "      <td>54.2</td>\n",
       "      <td>21.85</td>\n",
       "    </tr>\n",
       "    <tr>\n",
       "      <th>12</th>\n",
       "      <td>BDS00013</td>\n",
       "      <td>2</td>\n",
       "      <td>Open</td>\n",
       "      <td>Firm</td>\n",
       "      <td>27.58</td>\n",
       "      <td>Young</td>\n",
       "      <td>F</td>\n",
       "      <td>154.0</td>\n",
       "      <td>44.0</td>\n",
       "      <td>18.55</td>\n",
       "    </tr>\n",
       "    <tr>\n",
       "      <th>13</th>\n",
       "      <td>BDS00014</td>\n",
       "      <td>2</td>\n",
       "      <td>Open</td>\n",
       "      <td>Firm</td>\n",
       "      <td>27.58</td>\n",
       "      <td>Young</td>\n",
       "      <td>F</td>\n",
       "      <td>154.0</td>\n",
       "      <td>44.0</td>\n",
       "      <td>18.55</td>\n",
       "    </tr>\n",
       "    <tr>\n",
       "      <th>14</th>\n",
       "      <td>BDS00015</td>\n",
       "      <td>2</td>\n",
       "      <td>Open</td>\n",
       "      <td>Firm</td>\n",
       "      <td>27.58</td>\n",
       "      <td>Young</td>\n",
       "      <td>F</td>\n",
       "      <td>154.0</td>\n",
       "      <td>44.0</td>\n",
       "      <td>18.55</td>\n",
       "    </tr>\n",
       "  </tbody>\n",
       "</table>\n",
       "</div>"
      ],
      "text/plain": [
       "       Trial  Subject  Vision Surface    Age AgeGroup Gender  Height  Weight  \\\n",
       "0   BDS00001        1    Open    Firm  33.00    Young      F   157.5    54.2   \n",
       "1   BDS00002        1    Open    Firm  33.00    Young      F   157.5    54.2   \n",
       "2   BDS00003        1    Open    Firm  33.00    Young      F   157.5    54.2   \n",
       "3   BDS00004        1  Closed    Firm  33.00    Young      F   157.5    54.2   \n",
       "4   BDS00005        1  Closed    Firm  33.00    Young      F   157.5    54.2   \n",
       "5   BDS00006        1  Closed    Firm  33.00    Young      F   157.5    54.2   \n",
       "6   BDS00007        1    Open    Foam  33.00    Young      F   157.5    54.2   \n",
       "7   BDS00008        1    Open    Foam  33.00    Young      F   157.5    54.2   \n",
       "8   BDS00009        1    Open    Foam  33.00    Young      F   157.5    54.2   \n",
       "9   BDS00010        1  Closed    Foam  33.00    Young      F   157.5    54.2   \n",
       "10  BDS00011        1  Closed    Foam  33.00    Young      F   157.5    54.2   \n",
       "11  BDS00012        1  Closed    Foam  33.00    Young      F   157.5    54.2   \n",
       "12  BDS00013        2    Open    Firm  27.58    Young      F   154.0    44.0   \n",
       "13  BDS00014        2    Open    Firm  27.58    Young      F   154.0    44.0   \n",
       "14  BDS00015        2    Open    Firm  27.58    Young      F   154.0    44.0   \n",
       "\n",
       "      BMI  \n",
       "0   21.85  \n",
       "1   21.85  \n",
       "2   21.85  \n",
       "3   21.85  \n",
       "4   21.85  \n",
       "5   21.85  \n",
       "6   21.85  \n",
       "7   21.85  \n",
       "8   21.85  \n",
       "9   21.85  \n",
       "10  21.85  \n",
       "11  21.85  \n",
       "12  18.55  \n",
       "13  18.55  \n",
       "14  18.55  "
      ]
     },
     "execution_count": 3,
     "metadata": {},
     "output_type": "execute_result"
    }
   ],
   "source": [
    "BDSinfo.iloc[:15, :10]\n",
    "# or use the nice qgrid library:\n",
    "#qgrid.show_grid(BDSinfo.iloc[:, :10])"
   ]
  },
  {
   "cell_type": "markdown",
   "metadata": {},
   "source": [
    "## Data selection\n",
    "\n",
    "Here are examples of how to select part of the data using pandas (see http://pandas.pydata.org/pandas-docs/stable/indexing.html):"
   ]
  },
  {
   "cell_type": "code",
   "execution_count": 4,
   "metadata": {
    "collapsed": false
   },
   "outputs": [
    {
     "name": "stdout",
     "output_type": "stream",
     "text": [
      "There are 12 trials for subject 100\n",
      "There are 969 trials for the \"Open\" visual condition.\n",
      "There are 672 trials satisfying the criteria AgeGroup = \"Young\" and Gender = \"F\".\n"
     ]
    }
   ],
   "source": [
    "# Select data from a single subject:\n",
    "data = BDSinfo[BDSinfo.Subject==100]\n",
    "print('There are %d trials for subject 100' %data.shape[0])\n",
    "# Select data from a single condition:\n",
    "data = BDSinfo[BDSinfo.Vision=='Open']\n",
    "print('There are %d trials for the \"Open\" visual condition.' %data.shape[0])\n",
    "# Select data based on multiple criteria:\n",
    "criteria = (BDSinfo.AgeGroup=='Young') & (BDSinfo.Gender=='F')\n",
    "data = BDSinfo[criteria]\n",
    "print('There are %d trials satisfying the criteria AgeGroup = \"Young\" and Gender = \"F\".' %data.shape[0])"
   ]
  },
  {
   "cell_type": "markdown",
   "metadata": {},
   "source": [
    "We can calculate summary statistics for the selected data, for example:"
   ]
  },
  {
   "cell_type": "code",
   "execution_count": 5,
   "metadata": {
    "collapsed": false
   },
   "outputs": [
    {
     "name": "stdout",
     "output_type": "stream",
     "text": [
      "Mean and standard-deviation values of the COParea and COPvelo variables for the young adults without disability:\n"
     ]
    },
    {
     "data": {
      "text/html": [
       "<div>\n",
       "<table border=\"1\" class=\"dataframe\">\n",
       "  <thead>\n",
       "    <tr>\n",
       "      <th></th>\n",
       "      <th></th>\n",
       "      <th colspan=\"2\" halign=\"left\">COParea</th>\n",
       "      <th colspan=\"2\" halign=\"left\">COPvelo</th>\n",
       "    </tr>\n",
       "    <tr>\n",
       "      <th></th>\n",
       "      <th></th>\n",
       "      <th>mean</th>\n",
       "      <th>std</th>\n",
       "      <th>mean</th>\n",
       "      <th>std</th>\n",
       "    </tr>\n",
       "    <tr>\n",
       "      <th>Vision</th>\n",
       "      <th>Surface</th>\n",
       "      <th></th>\n",
       "      <th></th>\n",
       "      <th></th>\n",
       "      <th></th>\n",
       "    </tr>\n",
       "  </thead>\n",
       "  <tbody>\n",
       "    <tr>\n",
       "      <th rowspan=\"2\" valign=\"top\">Closed</th>\n",
       "      <th>Firm</th>\n",
       "      <td>2.92</td>\n",
       "      <td>2.94</td>\n",
       "      <td>0.96</td>\n",
       "      <td>0.39</td>\n",
       "    </tr>\n",
       "    <tr>\n",
       "      <th>Foam</th>\n",
       "      <td>14.91</td>\n",
       "      <td>6.47</td>\n",
       "      <td>3.11</td>\n",
       "      <td>1.04</td>\n",
       "    </tr>\n",
       "    <tr>\n",
       "      <th rowspan=\"2\" valign=\"top\">Open</th>\n",
       "      <th>Firm</th>\n",
       "      <td>2.57</td>\n",
       "      <td>2.89</td>\n",
       "      <td>0.87</td>\n",
       "      <td>0.31</td>\n",
       "    </tr>\n",
       "    <tr>\n",
       "      <th>Foam</th>\n",
       "      <td>12.59</td>\n",
       "      <td>6.07</td>\n",
       "      <td>2.34</td>\n",
       "      <td>0.68</td>\n",
       "    </tr>\n",
       "  </tbody>\n",
       "</table>\n",
       "</div>"
      ],
      "text/plain": [
       "               COParea       COPvelo      \n",
       "                  mean   std    mean   std\n",
       "Vision Surface                            \n",
       "Closed Firm       2.92  2.94    0.96  0.39\n",
       "       Foam      14.91  6.47    3.11  1.04\n",
       "Open   Firm       2.57  2.89    0.87  0.31\n",
       "       Foam      12.59  6.07    2.34  0.68"
      ]
     },
     "execution_count": 5,
     "metadata": {},
     "output_type": "execute_result"
    }
   ],
   "source": [
    "print('Mean and standard-deviation values of the COParea and COPvelo variables for the young adults without disability:')\n",
    "data = BDSinfo[(BDSinfo.AgeGroup=='Young') & (BDSinfo.Disability=='No')]\n",
    "data.groupby(['Vision', 'Surface'])['COParea', 'COPvelo'].agg([np.mean, np.std])"
   ]
  },
  {
   "cell_type": "markdown",
   "metadata": {},
   "source": [
    "And we can also plot the data.  \n",
    "For example, consider the case for plotting the data of a certain subject versus the other subjects. Let's create a function for that:"
   ]
  },
  {
   "cell_type": "code",
   "execution_count": 6,
   "metadata": {
    "collapsed": false
   },
   "outputs": [],
   "source": [
    "def bdb_plot_barplot(data, sel, var='COParea', ylabel='Area ( cm$^2$)',\n",
    "                     estimator=np.median, ci=95, ax=None, legend=None, sel_lege=True):\n",
    "    '''\n",
    "    Auxiliary plotting function to plot summary statistics of the Balance data set project.\n",
    "    '''\n",
    "    \n",
    "    palette = {'Open': [.8, .8, .9], 'Closed': [.4, .4, .9]}\n",
    "    axi = sns.barplot(x=\"Surface\", y=var, hue=\"Vision\", order=['Firm', 'Foam'], data=data, ci=ci,\n",
    "                       hue_order=['Open', 'Closed'], estimator=estimator, palette=palette, ax=ax)\n",
    "    if ylabel:\n",
    "        ax.set_ylabel(ylabel)\n",
    "    if legend:\n",
    "        axi.legend(title='Eyes', loc='best')\n",
    "    else:\n",
    "        ax.legend('')\n",
    "    # get the x,y values of the confidence intervals:\n",
    "    xyci = []\n",
    "    for ch in axi.get_children():\n",
    "        if isinstance(ch, matplotlib.lines.Line2D):\n",
    "            xyci.append(ch.get_data())\n",
    "    if sel is not None:\n",
    "        median = sel.groupby(['Vision', 'Surface'])['COParea', 'COPvelo'].agg(estimator)\n",
    "        axi.plot(xyci[0][0][0], median[var]['Open']['Firm'], marker='o', color='r', markersize=10, label='Subject')\n",
    "        axi.plot(xyci[2][0][0], median[var]['Closed']['Firm'], marker='o', color='r', markersize=10)\n",
    "        axi.plot(xyci[1][0][0], median[var]['Open']['Foam'], marker='o', color='r', markersize=10)\n",
    "        axi.plot(xyci[3][0][0], median[var]['Closed']['Foam'], marker='o', color='r', markersize=10)  \n",
    "        x = axi.get_xlim()[0] + .05*(axi.get_xlim()[1]-axi.get_xlim()[0])\n",
    "        y = axi.get_ylim()[0] + .9*(axi.get_ylim()[1]-axi.get_ylim()[0])\n",
    "        x2 = axi.get_xlim()[0] + .1*(axi.get_xlim()[1]-axi.get_xlim()[0])\n",
    "        y2 = axi.get_ylim()[0] + .88*(axi.get_ylim()[1]-axi.get_ylim()[0])\n",
    "        if sel_lege:\n",
    "            axi.plot(x, y, marker='o', color='r', markersize=10)\n",
    "            axi.text(x2, y2, 'Subject', fontsize=14)\n",
    "        \n",
    "    return ax, xyci"
   ]
  },
  {
   "cell_type": "markdown",
   "metadata": {},
   "source": [
    "Example of data selection and the plot:"
   ]
  },
  {
   "cell_type": "code",
   "execution_count": 7,
   "metadata": {
    "collapsed": true
   },
   "outputs": [],
   "source": [
    "# Select data from young adults without disability:\n",
    "sel = BDSinfo[(BDSinfo.AgeGroup=='Young') & (BDSinfo.Disability=='No')]\n",
    "# Select data of subject 1:\n",
    "sel2 = BDSinfo[BDSinfo.Subject==1]"
   ]
  },
  {
   "cell_type": "code",
   "execution_count": 8,
   "metadata": {
    "collapsed": false
   },
   "outputs": [
    {
     "data": {
      "image/png": "[encoded data removed]",
      "text/plain": [
       "<matplotlib.figure.Figure at 0x26da3a0e160>"
      ]
     },
     "metadata": {},
     "output_type": "display_data"
    }
   ],
   "source": [
    "fig, ax = plt.subplots(1, 2, figsize=(10, 4))\n",
    "axa, xycia = bdb_plot_barplot(data=sel, sel=sel2, var='COParea', ylabel='Area (cm$^2$)', ax=ax[0],\n",
    "                             legend=True, sel_lege=False)\n",
    "axs, xycis = bdb_plot_barplot(data=sel, sel=sel2, var='COPvelo', ylabel='Speed (cm/s)', ax=ax[1])\n",
    "plt.tight_layout()\n",
    "plt.suptitle('Balance evaluation of subject 1', fontsize=16, y=1.03)\n",
    "plt.show()"
   ]
  },
  {
   "cell_type": "markdown",
   "metadata": {},
   "source": [
    "## Jupyter widget for data selection"
   ]
  },
  {
   "cell_type": "markdown",
   "metadata": {},
   "source": [
    "With [Jupyter widgets](https://github.com/ipython/ipywidgets) we can create widgects for data selection.  \n",
    "The Jupyter widgets will not appear on the static version of this notebook (if you areseeing this notebook from GitHub), you will have to run this notebook for actually using the shown in the image below.\n",
    "\n",
    "<div class='center-align'><figure><img src=\"./../images/JupyterWidget.png\"alt=\"Jupyter widget for data selection\"/><figcaption><center><i>Figure. Static view of the Jupyter widget for data selection.</i></center></figcaption></figure></div>\n"
   ]
  },
  {
   "cell_type": "code",
   "execution_count": 12,
   "metadata": {
    "collapsed": false
   },
   "outputs": [],
   "source": [
    "subjects = np.hstack(('All subjects', np.sort(pd.unique(BDSinfo.Subject))))\n",
    "ages = np.hstack(('All ages', pd.unique(BDSinfo.AgeGroup)))\n",
    "genders = np.hstack(('All genders', pd.unique(BDSinfo.Gender)))\n",
    "disability = np.hstack(('All conditions', pd.unique(BDSinfo.Disability)))\n",
    "illness = np.hstack(('All conditions', pd.unique(BDSinfo.Illness)))\n",
    "visions = np.hstack(('All visions', pd.unique(BDSinfo.Vision)))\n",
    "surfaces = np.hstack(('All surfaces', pd.unique(BDSinfo.Surface)))\n",
    "\n",
    "wsubjects = ipywidgets.Dropdown(options=list(subjects), value='All subjects', description='Subjects', width=400, margin=2)\n",
    "wages = ipywidgets.Dropdown(options=list(ages), value='All ages', description='Ages', width=400, margin=2)\n",
    "wgenders = ipywidgets.Dropdown(options=list(genders), value='All genders', description='Genders', width=400, margin=2)\n",
    "wdisabilitys = ipywidgets.Dropdown(options=list(disability), value='All conditions', description='Disabilities',\n",
    "                                   width=400, margin=2)\n",
    "willness = ipywidgets.Dropdown(options=list(illness), value='All conditions', description='Illness', width=400, margin=2)\n",
    "wvisions = ipywidgets.Dropdown(options=list(visions), value='All visions', description='Visions', width=400, margin=2)\n",
    "wsurfaces = ipywidgets.Dropdown(options=list(surfaces), value='All surfaces', description='Surfaces', width=400, margin=2)\n",
    "t1 = ipywidgets.HTML(value=\"<b>Trials selection for the database:</b>\")\n",
    "trial_sel = ipywidgets.VBox(children=[t1, wsubjects, wgenders, wages, wdisabilitys, willness, wvisions, wsurfaces])\n",
    "\n",
    "wsubjects2 = ipywidgets.Dropdown(options=list(subjects), value='All subjects', description='Subjects', width=400, margin=2)\n",
    "wages2 = ipywidgets.Dropdown(options=list(ages), value='All ages', description='Ages', width=400, margin=2)\n",
    "wgenders2 = ipywidgets.Dropdown(options=list(genders), value='All genders', description='Genders', width=400, margin=2)\n",
    "wdisabilitys2 = ipywidgets.Dropdown(options=list(disability), value='All conditions', description='Disabilities', \n",
    "                                    width=400, margin=2)\n",
    "willness2 = ipywidgets.Dropdown(options=list(illness), value='All conditions', description='Illness', width=400, margin=2)\n",
    "wvisions2 = ipywidgets.Dropdown(options=list(visions), value='All visions', description='Visions', width=400, margin=2)\n",
    "wsurfaces2 = ipywidgets.Dropdown(options=list(surfaces), value='All surfaces', description='Surfaces', width=400, margin=2)\n",
    "t2 = ipywidgets.HTML(value=\"<b>Trials selection for the comparison:</b>\")\n",
    "trial_sel2 = ipywidgets.VBox(children=[t2, wsubjects2, wgenders2, wages2, wdisabilitys2, willness2, wvisions2, wsurfaces2])\n",
    "\n",
    "container = ipywidgets.HBox(children=[trial_sel, trial_sel2])\n",
    "container.border_color = '#F2F2F2'\n",
    "container.border_width = 2\n",
    "container.background_color = '#F2F2F2'\n",
    "display(container)"
   ]
  },
  {
   "cell_type": "markdown",
   "metadata": {},
   "source": [
    "## Summary results for selected data"
   ]
  },
  {
   "cell_type": "code",
   "execution_count": 13,
   "metadata": {
    "collapsed": false
   },
   "outputs": [
    {
     "name": "stdout",
     "output_type": "stream",
     "text": [
      "87 subjects selected.\n",
      "76 subjects selected.\n"
     ]
    },
    {
     "data": {
      "text/html": [
       "<div>\n",
       "<table border=\"1\" class=\"dataframe\">\n",
       "  <thead>\n",
       "    <tr style=\"text-align: right;\">\n",
       "      <th></th>\n",
       "      <th></th>\n",
       "      <th>COParea</th>\n",
       "      <th>COPvelo</th>\n",
       "    </tr>\n",
       "    <tr>\n",
       "      <th>Vision</th>\n",
       "      <th>Surface</th>\n",
       "      <th></th>\n",
       "      <th></th>\n",
       "    </tr>\n",
       "  </thead>\n",
       "  <tbody>\n",
       "    <tr>\n",
       "      <th rowspan=\"2\" valign=\"top\">Closed</th>\n",
       "      <th>Firm</th>\n",
       "      <td>2.22</td>\n",
       "      <td>1.10</td>\n",
       "    </tr>\n",
       "    <tr>\n",
       "      <th>Foam</th>\n",
       "      <td>23.27</td>\n",
       "      <td>4.15</td>\n",
       "    </tr>\n",
       "    <tr>\n",
       "      <th rowspan=\"2\" valign=\"top\">Open</th>\n",
       "      <th>Firm</th>\n",
       "      <td>2.18</td>\n",
       "      <td>1.01</td>\n",
       "    </tr>\n",
       "    <tr>\n",
       "      <th>Foam</th>\n",
       "      <td>18.89</td>\n",
       "      <td>3.54</td>\n",
       "    </tr>\n",
       "  </tbody>\n",
       "</table>\n",
       "</div>"
      ],
      "text/plain": [
       "                COParea  COPvelo\n",
       "Vision Surface                  \n",
       "Closed Firm        2.22     1.10\n",
       "       Foam       23.27     4.15\n",
       "Open   Firm        2.18     1.01\n",
       "       Foam       18.89     3.54"
      ]
     },
     "execution_count": 13,
     "metadata": {},
     "output_type": "execute_result"
    }
   ],
   "source": [
    "subject_sel = list(subjects) if wsubjects.value == 'All subjects' else wsubjects.value\n",
    "subject_sel = BDSinfo['Subject'].map(lambda x: str(x) in subject_sel)\n",
    "gender_sel = ['F', 'M'] if wgenders.value == 'All genders' else wgenders.value\n",
    "gender_sel = BDSinfo['Gender'].map(lambda x: x in gender_sel)\n",
    "if wages.value == 'All ages':\n",
    "    age_sel = BDSinfo['Age'].map(lambda x: x > 0)\n",
    "elif wages.value == 'Young':\n",
    "    age_sel = BDSinfo['Age'].map(lambda x: x < 60)\n",
    "else:\n",
    "    age_sel = BDSinfo['Age'].map(lambda x: x >= 60)\n",
    "disability_sel = ['Yes', 'No'] if wdisabilitys.value == 'All conditions' else wdisabilitys.value\n",
    "disability_sel = BDSinfo['Disability'].map(lambda x: x in disability_sel)\n",
    "illness_sel = ['Yes', 'No'] if willness.value == 'All conditions' else willness.value\n",
    "illness_sel = BDSinfo['Illness'].map(lambda x: x in illness_sel)\n",
    "vision_sel = ['Open', 'Closed'] if wvisions.value == 'All visions' else wvisions.value\n",
    "vision_sel = BDSinfo['Vision'].map(lambda x: x in vision_sel)\n",
    "surface_sel = ['Firm', 'Foam'] if wsurfaces.value == 'All surfaces' else wsurfaces.value\n",
    "surface_sel = BDSinfo['Surface'].map(lambda x: x in surface_sel)\n",
    "sel = BDSinfo[subject_sel & gender_sel & age_sel & illness_sel & disability_sel & vision_sel & surface_sel]\n",
    "print('%s subjects selected.' %len(pd.unique(sel.Subject)))\n",
    "sel.groupby(['Vision', 'Surface'])['COParea', 'COPvelo'].agg(np.median)\n",
    "\n",
    "subject_sel2 = list(subjects) if wsubjects2.value == 'All subjects' else wsubjects2.value\n",
    "subject_sel2 = BDSinfo['Subject'].map(lambda x: str(x) in subject_sel2)\n",
    "gender_sel2 = ['F', 'M'] if wgenders2.value == 'All genders' else wgenders2.value\n",
    "gender_sel2 = BDSinfo['Gender'].map(lambda x: x in gender_sel2)\n",
    "if wages2.value == 'All ages':\n",
    "    age_sel2 = BDSinfo['Age'].map(lambda x: x > 0)\n",
    "elif wages2.value == 'Young':\n",
    "    age_sel2 = BDSinfo['Age'].map(lambda x: x < 60)\n",
    "else:\n",
    "    age_sel2 = BDSinfo['Age'].map(lambda x: x >= 60)\n",
    "disability_sel2 = ['Yes', 'No'] if wdisabilitys2.value == 'All conditions' else wdisabilitys2.value\n",
    "disability_sel2 = BDSinfo['Disability'].map(lambda x: x in disability_sel2)\n",
    "illness_sel2 = ['Yes', 'No'] if willness2.value == 'All conditions' else willness2.value\n",
    "illness_sel2 = BDSinfo['Illness'].map(lambda x: x in illness_sel2)\n",
    "vision_sel2 = ['Open', 'Closed'] if wvisions2.value == 'All visions' else wvisions2.value\n",
    "vision_sel2 = BDSinfo['Vision'].map(lambda x: x in vision_sel2)\n",
    "surface_sel2 = ['Firm', 'Foam'] if wsurfaces2.value == 'All surfaces' else wsurfaces2.value\n",
    "surface_sel2 = BDSinfo['Surface'].map(lambda x: x in surface_sel2)\n",
    "sel2 = BDSinfo[subject_sel2 & gender_sel2 & age_sel2 & illness_sel2 & disability_sel2 & vision_sel2 & surface_sel2]\n",
    "print('%s subjects selected.' %len(pd.unique(sel2.Subject)))\n",
    "sel2.groupby(['Vision', 'Surface'])['COParea', 'COPvelo'].agg(np.median)"
   ]
  },
  {
   "cell_type": "code",
   "execution_count": 14,
   "metadata": {
    "collapsed": false
   },
   "outputs": [
    {
     "data": {
      "image/png": "[encoded data removed]",
      "text/plain": [
       "<matplotlib.figure.Figure at 0x26da5f782b0>"
      ]
     },
     "metadata": {},
     "output_type": "display_data"
    }
   ],
   "source": [
    "fig, ax = plt.subplots(1, 2, figsize=(10, 4))\n",
    "axa, xycia = bdb_plot_barplot(data=sel, sel=sel2, var='COParea', ylabel='Area (cm$^2$)', ax=ax[0],\n",
    "                             legend=True, sel_lege=False)\n",
    "axs, xycis = bdb_plot_barplot(data=sel, sel=sel2, var='COPvelo', ylabel='Speed (cm/s)', ax=ax[1])\n",
    "plt.tight_layout()\n",
    "subjects = pd.unique(sel2.Subject)\n",
    "if sel is not None and len(pd.unique(sel.Subject)) == 1:\n",
    "    title = 'Balance evaluation (subject: %s)' %sel['Subject'].iloc[0]\n",
    "else:\n",
    "    title = 'Balance evaluation (%d subjects)' %len(subjects)\n",
    "plt.suptitle(title, fontsize=16, y=1.03)\n",
    "plt.show()"
   ]
  }
 ],
 "metadata": {
  "kernelspec": {
   "display_name": "Python 3",
   "language": "python",
   "name": "python3"
  },
  "language_info": {
   "codemirror_mode": {
    "name": "ipython",
    "version": 3
   },
   "file_extension": ".py",
   "mimetype": "text/x-python",
   "name": "python",
   "nbconvert_exporter": "python",
   "pygments_lexer": "ipython3",
   "version": "3.5.1"
  },
  "widgets": {
   "state": {
    "0313793148da42a38bc9718251292849": {
     "views": []
    },
    "03f18f3c22984a059f737b9bba0751bc": {
     "views": []
    },
    "06ec4085bbd247c19c3783befc91eadd": {
     "views": []
    },
    "07ad076a471c49f0ba175a3f7910093b": {
     "views": []
    },
    "0af489ae4dae4d22bfac4919a2bdfc9d": {
     "views": []
    },
    "11b9788b22d24de7998a618905995819": {
     "views": []
    },
    "1404241860ed4c90a1c7b782370744dd": {
     "views": []
    },
    "14519c3172324c028a3225633fced24b": {
     "views": []
    },
    "147b7f9927284bfdb78e72fef70309ac": {
     "views": []
    },
    "15ef17bf76f34a56877864f22819350c": {
     "views": []
    },
    "16ab6b88e5044bda883db3d4e483b090": {
     "views": []
    },
    "16ef394ecb334fb2b47fb07c93193c21": {
     "views": []
    },
    "19e19192ab8c40e9abd3d5ab07233b0a": {
     "views": []
    },
    "1caeac97ab1940dfb09b970b247cb01d": {
     "views": []
    },
    "1eb51b3c283f45b4a2f7790a2a28a630": {
     "views": []
    },
    "1f76d069d32b44e7a68933c0cdc056ca": {
     "views": []
    },
    "201b2a79f12f446abba729f6a8d01f4c": {
     "views": []
    },
    "20e8943bf578497ebbd5da807916c5b3": {
     "views": []
    },
    "21b78a90a19e48718e5372dd8d734f33": {
     "views": []
    },
    "226548f63b1747698d591b8bb982a7c5": {
     "views": []
    },
    "268d1f1675844eddbd8d63a28333f6db": {
     "views": []
    },
    "26af65a06f174e12b38653bf2d1ee92d": {
     "views": []
    },
    "27b212379aef489baedf7f8d63e18652": {
     "views": []
    },
    "28a17cff5c084a8ebe2846d7b9cae35c": {
     "views": []
    },
    "297f994c98044793b3a1b029b3df2d4f": {
     "views": []
    },
    "29ea142dde3f4cb08994b91e0f1048a3": {
     "views": []
    },
    "29eb7b665f574086abe3fce2c0ee110b": {
     "views": []
    },
    "2aa754b14d3c4617bba4177e66fd9d54": {
     "views": []
    },
    "2abd4c08f0c14339a64284490b37c504": {
     "views": []
    },
    "2ac74ab17f544e22af0de593b2ac1c83": {
     "views": []
    },
    "2d2ee751ede24fed9adbff68088656bc": {
     "views": [
      {
       "cell_index": 18
      }
     ]
    },
    "2fd05f7b940d464c969312ac1ee4ee22": {
     "views": []
    },
    "3089e5086bba440989cfe42c9d89f1e0": {
     "views": []
    },
    "321d0d2684da4497ae76a65cbd1d4f76": {
     "views": []
    },
    "324e34e019974116a6b2ebb38583dc23": {
     "views": []
    },
    "33df553fa3f34b25813df1f789d3bb9e": {
     "views": []
    },
    "3423a046ad604326aa6525448bfde65d": {
     "views": []
    },
    "34d44d49978f4bb3b5f8b6e8ff36a2f9": {
     "views": []
    },
    "368fd4a009f7470cb5d7ac92f1364f44": {
     "views": []
    },
    "38ceb81f52de4f99bf4c5c06dd9d5a76": {
     "views": []
    },
    "3af43bfd37e9421184aec2de1558fb1b": {
     "views": []
    },
    "3b13ff20423c4b0db249c210c1ebe313": {
     "views": []
    },
    "3c9fbb10da694cd9acede1d539af078f": {
     "views": []
    },
    "3dc8c667a80343c395b8d92d7c0a6267": {
     "views": []
    },
    "3dd3e880af80410abd11dd76de8200f9": {
     "views": []
    },
    "3ee7e10b05b74fe2b35c5025613c93f4": {
     "views": []
    },
    "4079d0ca078f4005a4928bf88dd86827": {
     "views": []
    },
    "41eb96c4838c4e2eb003cbe4356c4feb": {
     "views": []
    },
    "420dac71b6a54fdb8117b74e43e73481": {
     "views": []
    },
    "439b0e92a87646a890e3783d6bc99e66": {
     "views": []
    },
    "464552cfacd142809e33d5c3e4bc6bf6": {
     "views": []
    },
    "4754499c6d024da280260d0a3eb45101": {
     "views": []
    },
    "497d184edc974b15b965d09813afde1c": {
     "views": []
    },
    "4ba35a22de6348a2812d85f2eb85c38f": {
     "views": []
    },
    "548c4d46bb3b4cacbd3f8a63583bf18b": {
     "views": []
    },
    "55778f9506df474b9d341a5ca0936e4f": {
     "views": []
    },
    "56b8913843e242a598b4a218bf98f265": {
     "views": []
    },
    "56c65c7976184a84a9a4cc92ddd192b6": {
     "views": []
    },
    "5807ffa04e6644f8b799ac59b93b1ce6": {
     "views": []
    },
    "5b80a1b2ceb94070b341dca91e4c7800": {
     "views": []
    },
    "5de9d690089d45f58609a96e00a26202": {
     "views": []
    },
    "5ed28547630842b5ac6970dab2d704c0": {
     "views": []
    },
    "5fc61a8af3904464b443783d72720bd6": {
     "views": []
    },
    "606792677bb04980ab229e0569d4079f": {
     "views": []
    },
    "61145375186a447e8edd726b2bd63fb8": {
     "views": []
    },
    "6173befb66804c03b706d5d0efe714a2": {
     "views": []
    },
    "65d791eff5a640dc83c3bf1abe34b2bc": {
     "views": []
    },
    "66764c494d444a00850fc87432991500": {
     "views": []
    },
    "6864e5eb7eb14a3a8debadf380507401": {
     "views": []
    },
    "6b9446e705f24a1db001d5e6493b457a": {
     "views": []
    },
    "6fa9b4dbee6f4d4fa820485ded3a24dc": {
     "views": []
    },
    "6fc65f2191bc4146b81e16f90180b06d": {
     "views": []
    },
    "71afc876a1d74a3b8a907a807d910ace": {
     "views": []
    },
    "725e17f01859448caf7c21538361ab4a": {
     "views": []
    },
    "75ce3fa763434567aa26e57384d6e008": {
     "views": []
    },
    "7682ce9a3c1a4ffb827aed4d1a3e6364": {
     "views": []
    },
    "7985830d234e484a81ff3d1795d33bf0": {
     "views": []
    },
    "7cb460cad2db410293d7141801682b65": {
     "views": []
    },
    "81b05d4668644bf89ca9a624362f6dfd": {
     "views": []
    },
    "83099fdd6aa442cebd5287bcbb2d611b": {
     "views": []
    },
    "8526e5b1483c47f58d9cff9c0d257715": {
     "views": []
    },
    "85c57b7d6ba0453bafec9c939f743d1f": {
     "views": []
    },
    "888d03ee2f62445ab779668e3846af22": {
     "views": []
    },
    "8ce7d299f95f4a239e041780474a9d11": {
     "views": []
    },
    "8d429f3db5f5476b98cd1320d0b89983": {
     "views": []
    },
    "8f3261ec023942819ee5cae855b35353": {
     "views": []
    },
    "9097ed7f3ef24c60804ab802dfe963ae": {
     "views": []
    },
    "9142eed598144a5c876756fdc91047aa": {
     "views": []
    },
    "92e1d9a4022b4173855709dc4dfd4ca1": {
     "views": []
    },
    "93f8db980228470ca724ba62b6472a39": {
     "views": []
    },
    "972802a1c8064db6b307b07d7970e2f9": {
     "views": []
    },
    "97bd4be644aa412f93cb32646a2124d6": {
     "views": []
    },
    "9980c2a78a204d88a7372cebb0f640df": {
     "views": []
    },
    "999f1e97e39f4e8fab41fafce5a118e8": {
     "views": []
    },
    "9a6b5212d64b4237ab3cd782fa452a4e": {
     "views": []
    },
    "9accc9c653e34547a3c673fc0df4c1b8": {
     "views": []
    },
    "9ff4dbe8af3345679a7170d64bf55f1a": {
     "views": []
    },
    "9ffdb5c450744f5182697bed04647e7e": {
     "views": []
    },
    "a25347875b284f788b765bff444f35f9": {
     "views": []
    },
    "a33419b485684d03b785b62647a4ea2c": {
     "views": []
    },
    "a375b86c81724277bf4d56c2aeb1c601": {
     "views": []
    },
    "a42f94548394420ea2d23e2d489daa27": {
     "views": []
    },
    "a9ddcef9e799465caedc0ef9d715cb78": {
     "views": []
    },
    "abb2de4014f1428aabcb7d9edd954c84": {
     "views": []
    },
    "ac338eadb2854783b280729112e9f22d": {
     "views": []
    },
    "ad4e055ce3824d69977915efb937ae2b": {
     "views": []
    },
    "b0a0ffa4f45c4c959981056316d9fd46": {
     "views": []
    },
    "b3248bbb057c49978129b03fc04b4152": {
     "views": []
    },
    "b3fdf909faa946dbb3f5d85c84cfd8fd": {
     "views": []
    },
    "b6f3120a386f4f87b5c21740aa53ac78": {
     "views": []
    },
    "b87e6943cabb44cdb559d44d7f6b401a": {
     "views": []
    },
    "b93c5ea7351842d48b38d5c1e1e9b44b": {
     "views": []
    },
    "ba74577d441d43ff833b3b1353a5d7e3": {
     "views": []
    },
    "bbec571642e04f96b96b4eff3c6038f2": {
     "views": []
    },
    "be92228062ab4c19a975a7bd4571bc23": {
     "views": []
    },
    "bed44f10e2ec481195fcb60f58aee2fa": {
     "views": []
    },
    "bf1dc7ff37ed43cd9648738d400d1cff": {
     "views": []
    },
    "bf402c786a5246ddbeb476d7d6ba6f02": {
     "views": []
    },
    "c0f0e45bad43401eb4cc11888d26672a": {
     "views": []
    },
    "c64211c04b5f44fc89f7f75a9bf45859": {
     "views": []
    },
    "c6f9c9d5db2f46f385550c913df36d84": {
     "views": []
    },
    "caf97ff72a674f8c919d9c34bee044fd": {
     "views": []
    },
    "d1ee70c81b664825b66ca173891dc92e": {
     "views": []
    },
    "d281aca47ace4f469dcb88c06356e716": {
     "views": []
    },
    "d3227852ed8542eca49b1330c5a1514a": {
     "views": []
    },
    "d3d3399a41c145fca63f8f201035fbe4": {
     "views": []
    },
    "d675e75a9d564ab09cad1daf32209d31": {
     "views": []
    },
    "d73583eb4ba9435fb4322fe27319fcb2": {
     "views": []
    },
    "d7d189e036dd4c3eb63b5f2517d4254c": {
     "views": []
    },
    "d882fea932ad45bdaa31e56a2defb295": {
     "views": []
    },
    "da9ca73052dc49c0b7c912d01cb06202": {
     "views": []
    },
    "e053d1c2d3d442bea990474a9b5d6345": {
     "views": []
    },
    "e1a398c22cef489a94be1ff89d296963": {
     "views": []
    },
    "e218ec4f9fb845e8adcfa6a4783e7a22": {
     "views": []
    },
    "e7444de26a204238bf84305793eca215": {
     "views": []
    },
    "e75ecc90cc14489a86580d6c84d3eb52": {
     "views": []
    },
    "e83ed98aedd04db0a83bbc7ff43d7764": {
     "views": []
    },
    "e8c79f869c934c168727b5f1415fdd69": {
     "views": []
    },
    "e9a66f4445d84b3b994f088aac8670ae": {
     "views": []
    },
    "e9f0f9ecfd5c48019153ef07e3f83c84": {
     "views": []
    },
    "ebd920b09e6e4598a549032cbcbcb6c0": {
     "views": []
    },
    "ee70a7681fa940a986f4dbce0a93c52f": {
     "views": []
    },
    "f14580e82b544a6a9dba34c21af68bf6": {
     "views": []
    },
    "f2b0d85a5a674babac2837f141b1a279": {
     "views": []
    },
    "f5a82655e96f410da0f9dc030ca21ccf": {
     "views": []
    },
    "f674429bca454b5bbc819466d8b265e6": {
     "views": []
    },
    "f6b3914bf1b643ea99f2524ffdfba8e1": {
     "views": []
    },
    "f74b9d165be7401481ac8ed813988c35": {
     "views": []
    },
    "f92e29805c9d4b178a8f90f1b44ac32f": {
     "views": []
    },
    "fb8e22bdb32f4ee98ae2d52053ce1e23": {
     "views": []
    },
    "fc4fbef22796416ca5a1e0c5b6f3f2c5": {
     "views": []
    },
    "fff7af3fc4f347baba61c580b06d406f": {
     "views": []
    }
   },
   "version": "1.1.2"
  }
 },
 "nbformat": 4,
 "nbformat_minor": 0
}
